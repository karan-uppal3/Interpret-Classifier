{
  "nbformat": 4,
  "nbformat_minor": 0,
  "metadata": {
    "colab": {
      "name": "Evaluate.ipynb",
      "provenance": []
    },
    "kernelspec": {
      "name": "python3",
      "display_name": "Python 3"
    },
    "accelerator": "GPU"
  },
  "cells": [
    {
      "cell_type": "code",
      "metadata": {
        "id": "FjSMdma2gXPb"
      },
      "source": [
        "tree_path = '/content/drive/MyDrive/Interpretable Classifier Data/Decision Tree Model/tree.joblib'\r\n",
        "model_path = '/content/drive/MyDrive/Interpretable Classifier Data/SemSeg Model/best_model.pt'\r\n",
        "data_path = '/content/drive/MyDrive/Interpretable Classifier Data/Evaluation Data'\r\n",
        "show_interpret = True"
      ],
      "execution_count": null,
      "outputs": []
    },
    {
      "cell_type": "markdown",
      "metadata": {
        "id": "sPfblQNKSndg"
      },
      "source": [
        "# Importing Libraries"
      ]
    },
    {
      "cell_type": "code",
      "metadata": {
        "id": "sE0r00YZSpXS"
      },
      "source": [
        "import torch\r\n",
        "from torchvision import transforms\r\n",
        "from torch.utils.data import Dataset, DataLoader\r\n",
        "import torch.nn.functional as F\r\n",
        "import os\r\n",
        "import cv2\r\n",
        "import numpy as np\r\n",
        "from joblib import load\r\n",
        "from model import ENet\r\n",
        "from sklearn.metrics import accuracy_score\r\n",
        "from sklearn.metrics import classification_report, confusion_matrix\r\n",
        "from utils import load_ckp, decode_segmap, counter, print_rule"
      ],
      "execution_count": null,
      "outputs": []
    },
    {
      "cell_type": "markdown",
      "metadata": {
        "id": "dccCQfKgPniP"
      },
      "source": [
        "# Loading Model"
      ]
    },
    {
      "cell_type": "code",
      "metadata": {
        "id": "haKP4dvhNiiC"
      },
      "source": [
        "model = ENet(num_classes=3).to('cuda')"
      ],
      "execution_count": null,
      "outputs": []
    },
    {
      "cell_type": "code",
      "metadata": {
        "id": "rweJVsbxQReK"
      },
      "source": [
        "# define optimzer\n",
        "optimizer = torch.optim.Adam(model.parameters(),lr=5e-4,weight_decay=2e-4)\n",
        "\n",
        "# define checkpoint saved path\n",
        "ckp_path = model_path"
      ],
      "execution_count": null,
      "outputs": []
    },
    {
      "cell_type": "code",
      "metadata": {
        "id": "jvIoLs_8Qj_a"
      },
      "source": [
        "model, optimizer, start_epoch, valid_loss_min = load_ckp(ckp_path, model, optimizer)"
      ],
      "execution_count": null,
      "outputs": []
    },
    {
      "cell_type": "code",
      "metadata": {
        "id": "-UrJ6IGQpfqz"
      },
      "source": [
        "clf = load(tree_path)"
      ],
      "execution_count": null,
      "outputs": []
    },
    {
      "cell_type": "markdown",
      "metadata": {
        "id": "OFXbeSPpY2Xy"
      },
      "source": [
        "# Loading Data"
      ]
    },
    {
      "cell_type": "code",
      "metadata": {
        "id": "4rnUo5xpxdUV"
      },
      "source": [
        "# Tranformation for the input images \n",
        "transform_img = transforms.Compose([\n",
        "  transforms.ToTensor(),\n",
        "  transforms.Normalize((0.5, 0.5, 0.5), (0.5, 0.5, 0.5))\n",
        "  ])"
      ],
      "execution_count": null,
      "outputs": []
    },
    {
      "cell_type": "code",
      "metadata": {
        "id": "erCCE5ceZDaA"
      },
      "source": [
        "class dataset(Dataset):\r\n",
        "  \"\"\"Custom Dataset class for ease of operation\"\"\"\r\n",
        "\r\n",
        "  def __init__(self, images_X, images_Y, transform_img):\r\n",
        "    self.data=images_X\r\n",
        "    self.labels=images_Y\r\n",
        "    self.transform=transform_img\r\n",
        "\r\n",
        "  def __len__(self):\r\n",
        "    return len(self.data)\r\n",
        "\r\n",
        "  def __getitem__(self, index):\r\n",
        "    x = self.data[index]\r\n",
        "    y = self.labels[index]\r\n",
        "    x = self.transform(x)\r\n",
        "    return x, y"
      ],
      "execution_count": null,
      "outputs": []
    },
    {
      "cell_type": "code",
      "metadata": {
        "id": "xZ0sLXuTY7VK"
      },
      "source": [
        "image_list_X_test = []"
      ],
      "execution_count": null,
      "outputs": []
    },
    {
      "cell_type": "code",
      "metadata": {
        "id": "4ptsjYRDY7VM"
      },
      "source": [
        "num_bicycles = len(os.listdir(data_path+'/bicycle/'))\n",
        "\n",
        "for imagename in sorted(os.listdir(data_path+'/bicycle/')): \n",
        "  im=cv2.imread(data_path+'/bicycle/'+imagename)\n",
        "  image_list_X_test.append(im)"
      ],
      "execution_count": null,
      "outputs": []
    },
    {
      "cell_type": "code",
      "metadata": {
        "id": "IFH29tXwY7VN"
      },
      "source": [
        "num_unicycles = len(os.listdir(data_path+'/unicycle/'))\n",
        "\n",
        "for imagename in sorted(os.listdir(data_path+'/unicycle/')): \n",
        "  im=cv2.imread(data_path+'/unicycle/'+imagename)\n",
        "  image_list_X_test.append(im)"
      ],
      "execution_count": null,
      "outputs": []
    },
    {
      "cell_type": "code",
      "metadata": {
        "id": "vzPFsSgrY7VN"
      },
      "source": [
        "num_negative = len(os.listdir(data_path+'/negative/'))\n",
        "\n",
        "for imagename in sorted(os.listdir(data_path+'/negative/')): \n",
        "  im=cv2.imread(data_path+'/negative/'+imagename)\n",
        "  image_list_X_test.append(im)"
      ],
      "execution_count": null,
      "outputs": []
    },
    {
      "cell_type": "code",
      "metadata": {
        "id": "EYOmvmRMY7VO"
      },
      "source": [
        "images_X_test = np.array(image_list_X_test)\r\n",
        "y = [2]*num_bicycles + [1]*num_unicycles + [0]*num_negative"
      ],
      "execution_count": null,
      "outputs": []
    },
    {
      "cell_type": "code",
      "metadata": {
        "id": "uQSBmm5kY7VP"
      },
      "source": [
        "test_data = dataset(images_X=images_X_test, images_Y=y, transform_img=transform_img)\n",
        "test_loader = DataLoader(test_data, batch_size=1)"
      ],
      "execution_count": null,
      "outputs": []
    },
    {
      "cell_type": "markdown",
      "metadata": {
        "id": "6Xphejh2qEIp"
      },
      "source": [
        "# Evaluation"
      ]
    },
    {
      "cell_type": "code",
      "metadata": {
        "id": "q-FgPgbnrPgC"
      },
      "source": [
        "X_data = []\r\n",
        "y_data = []"
      ],
      "execution_count": null,
      "outputs": []
    },
    {
      "cell_type": "code",
      "metadata": {
        "id": "jTXwxosgm4m4"
      },
      "source": [
        "for img, label in test_loader:\n",
        "\n",
        "  model.eval()\n",
        "  \n",
        "  xb = img.to('cuda')\n",
        "\n",
        "  yb = model(xb)\n",
        "\n",
        "  pred = F.softmax(yb, dim=1)             \n",
        "  idx = pred < 0.95\n",
        "  pred[idx] = 0\n",
        "  preds = torch.argmax(pred, dim=1).squeeze(1)\n",
        "\n",
        "  preds = preds.cpu()\n",
        "\n",
        "  x = decode_segmap(preds,nc=3)\n",
        "  x = x.squeeze(0)\n",
        "\n",
        "  temp = counter(x)\n",
        "\n",
        "  if show_interpret:\n",
        "    print_rule(np.array(temp).reshape(1,-1),clf)\n",
        "\n",
        "  X_data.append(temp)\n",
        "  y_data.append(int(label))"
      ],
      "execution_count": null,
      "outputs": []
    },
    {
      "cell_type": "code",
      "metadata": {
        "id": "vZSnkXefrZkq"
      },
      "source": [
        "X_data = np.array(X_data)"
      ],
      "execution_count": null,
      "outputs": []
    },
    {
      "cell_type": "code",
      "metadata": {
        "id": "FIeiCVK0m4m6"
      },
      "source": [
        "y_pred = clf.predict(X_data)\n",
        "accuracy_score(y_data, y_pred)*100"
      ],
      "execution_count": null,
      "outputs": []
    },
    {
      "cell_type": "code",
      "metadata": {
        "id": "4bwYB1P5m4m7"
      },
      "source": [
        "print(confusion_matrix(y_data, clf.predict(X_data)))\r\n",
        "print(classification_report(y_data, clf.predict(X_data)))"
      ],
      "execution_count": null,
      "outputs": []
    }
  ]
}
